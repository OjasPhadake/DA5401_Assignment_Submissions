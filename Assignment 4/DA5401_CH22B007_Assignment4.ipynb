{
  "cells": [
    {
      "cell_type": "markdown",
      "metadata": {
        "id": "rBya4mkXr8zp"
      },
      "source": [
        "# DA5401: Assignment 4\n",
        "## Author: Ojas Phadake\n",
        "\n",
        "### Roll No: CH22B007\n",
        "\n",
        "### Date of Submission: 15-09-2025\n",
        "\n",
        "This assignment is to apply a sophisticated, model-based approach to tackle the class imbalance problem. It will involve use of a Gaussian Mixture Model (GMM) to generate synthetic samples for the minority class, and then evaluate its effectiveness compared to a baseline model. This assignment focuses on the theoretical and practical aspects of using probabilistic models for data augmentation.\n",
        "\n",
        "### Problem Statement:\n",
        "\n",
        "You are a data scientist tasked with building a fraud detection model for a financial institution. You have been given a highly imbalanced dataset where a tiny fraction of transactions are fraudulent. Your main challenge is to create a training set that allows a classifier to learn the nuances of the minority (fraudulent) class without overfitting or misclassifying. You will implement a GMM-based synthetic data generation pipeline and analyze its impact on model\n",
        "performance.\n",
        "\n",
        "This analysis will be done on the [Credit Card Fraud Detection Dataset](https://www.kaggle.com/datasets/mlg-ulb/creditcardfraud).\n",
        "\n",
        "### Importing Libraries"
      ]
    },
    {
      "cell_type": "code",
      "execution_count": 20,
      "metadata": {
        "id": "cOWfh5issgUT"
      },
      "outputs": [],
      "source": [
        "import kagglehub\n",
        "import pandas as pd\n",
        "import matplotlib.pyplot as plt\n",
        "import seaborn as sns\n",
        "import numpy as np\n",
        "\n",
        "from sklearn.model_selection import train_test_split\n",
        "from sklearn.linear_model import LogisticRegression\n",
        "from sklearn.metrics import classification_report, accuracy_score, confusion_matrix, ConfusionMatrixDisplay, RocCurveDisplay\n",
        "from sklearn.decomposition import PCA\n",
        "from sklearn.cluster import KMeans\n",
        "from sklearn.mixture import GaussianMixture\n",
        "\n",
        "import warnings\n",
        "warnings.filterwarnings('ignore')"
      ]
    },
    {
      "cell_type": "markdown",
      "metadata": {
        "id": "d7D1O--bsnDb"
      },
      "source": [
        "### Part A: Baseline Model and Data Analysis\n",
        "\n",
        "#### Data Loading and Analysis:"
      ]
    },
    {
      "cell_type": "code",
      "execution_count": 21,
      "metadata": {
        "colab": {
          "base_uri": "https://localhost:8080/"
        },
        "id": "4Rbnjlbbsg4C",
        "outputId": "6f000e88-b11b-47b5-b55c-e20f8c908525"
      },
      "outputs": [
        {
          "output_type": "stream",
          "name": "stdout",
          "text": [
            "Using Colab cache for faster access to the 'creditcardfraud' dataset.\n",
            "Path to dataset files: /kaggle/input/creditcardfraud\n"
          ]
        }
      ],
      "source": [
        "path = kagglehub.dataset_download(\"mlg-ulb/creditcardfraud\")\n",
        "print(\"Path to dataset files:\", path)"
      ]
    },
    {
      "cell_type": "code",
      "execution_count": 22,
      "metadata": {
        "colab": {
          "base_uri": "https://localhost:8080/"
        },
        "id": "0IDt6X0vsuRS",
        "outputId": "f7312867-edb4-4baa-ec91-04e10ddaa9f6"
      },
      "outputs": [
        {
          "output_type": "stream",
          "name": "stdout",
          "text": [
            "   Time        V1        V2        V3        V4        V5        V6        V7  \\\n",
            "0   0.0 -1.359807 -0.072781  2.536347  1.378155 -0.338321  0.462388  0.239599   \n",
            "1   0.0  1.191857  0.266151  0.166480  0.448154  0.060018 -0.082361 -0.078803   \n",
            "2   1.0 -1.358354 -1.340163  1.773209  0.379780 -0.503198  1.800499  0.791461   \n",
            "3   1.0 -0.966272 -0.185226  1.792993 -0.863291 -0.010309  1.247203  0.237609   \n",
            "4   2.0 -1.158233  0.877737  1.548718  0.403034 -0.407193  0.095921  0.592941   \n",
            "\n",
            "         V8        V9  ...       V21       V22       V23       V24       V25  \\\n",
            "0  0.098698  0.363787  ... -0.018307  0.277838 -0.110474  0.066928  0.128539   \n",
            "1  0.085102 -0.255425  ... -0.225775 -0.638672  0.101288 -0.339846  0.167170   \n",
            "2  0.247676 -1.514654  ...  0.247998  0.771679  0.909412 -0.689281 -0.327642   \n",
            "3  0.377436 -1.387024  ... -0.108300  0.005274 -0.190321 -1.175575  0.647376   \n",
            "4 -0.270533  0.817739  ... -0.009431  0.798278 -0.137458  0.141267 -0.206010   \n",
            "\n",
            "        V26       V27       V28  Amount  Class  \n",
            "0 -0.189115  0.133558 -0.021053  149.62      0  \n",
            "1  0.125895 -0.008983  0.014724    2.69      0  \n",
            "2 -0.139097 -0.055353 -0.059752  378.66      0  \n",
            "3 -0.221929  0.062723  0.061458  123.50      0  \n",
            "4  0.502292  0.219422  0.215153   69.99      0  \n",
            "\n",
            "[5 rows x 31 columns]\n",
            "(284807, 31)\n"
          ]
        }
      ],
      "source": [
        "df = pd.read_csv(f\"{path}/creditcard.csv\")\n",
        "print(df.head())\n",
        "print(df.shape)"
      ]
    },
    {
      "cell_type": "markdown",
      "metadata": {
        "id": "MQkbLq5Asy1p"
      },
      "source": [
        "We can see that the dataset has a size of 284801 rows and 31 columns. Let us go ahead and see how the class distribution is present in the data.\n",
        "\n",
        "### Analyze Class Distribution:"
      ]
    },
    {
      "cell_type": "code",
      "execution_count": 23,
      "metadata": {
        "colab": {
          "base_uri": "https://localhost:8080/",
          "height": 646
        },
        "id": "zk5Bn9a1swUf",
        "outputId": "dcfd2b04-4aac-44db-c1bc-d3d5568049ef"
      },
      "outputs": [
        {
          "output_type": "stream",
          "name": "stdout",
          "text": [
            "Class Distribution:\n",
            "Class\n",
            "0    284315\n",
            "1       492\n",
            "Name: count, dtype: int64\n",
            "\n",
            "Fraudulent transactions: 492 (0.1727%)\n",
            "Non-Fraudulent transactions: 284315 (99.8273%)\n"
          ]
        },
        {
          "output_type": "display_data",
          "data": {
            "text/plain": [
              "<Figure size 1200x500 with 2 Axes>"
            ],
            "image/png": "[encoded data removed]"
          },
          "metadata": {}
        }
      ],
      "source": [
        "class_counts = df['Class'].value_counts()\n",
        "\n",
        "# Print distribution\n",
        "print(\"Class Distribution:\")\n",
        "print(class_counts)\n",
        "print(f\"\\nFraudulent transactions: {class_counts[1]} ({class_counts[1]/len(df)*100:.4f}%)\")\n",
        "print(f\"Non-Fraudulent transactions: {class_counts[0]} ({class_counts[0]/len(df)*100:.4f}%)\")\n",
        "\n",
        "# Create subplots\n",
        "fig, axes = plt.subplots(1, 2, figsize=(12,5))\n",
        "\n",
        "# Bar Plot\n",
        "sns.barplot(x=class_counts.index, y=class_counts.values, palette=\"Set2\", ax=axes[0])\n",
        "axes[0].set_xticks([0,1])\n",
        "axes[0].set_xticklabels([\"Non-Fraudulent\", \"Fraudulent\"])\n",
        "axes[0].set_ylabel(\"Count\")\n",
        "axes[0].set_title(\"Class Distribution (Bar Plot)\")\n",
        "\n",
        "# Pie Chart\n",
        "axes[1].pie(\n",
        "    class_counts,\n",
        "    labels=[\"Non-Fraudulent\", \"Fraudulent\"],\n",
        "    autopct='%1.2f%%',\n",
        "    colors=[\"#66b3ff\",\"#ff6666\"]\n",
        ")\n",
        "axes[1].set_title(\"Class Distribution (Pie Chart)\")\n",
        "\n",
        "plt.tight_layout()\n",
        "plt.show()\n"
      ]
    },
    {
      "cell_type": "markdown",
      "metadata": {
        "id": "tXp2siKFs5Ot"
      },
      "source": [
        "The fact that the fraudulent transactions are extremely less as compared to the Non-fraudulent transactions leads to it being a highly imbalanced dataset. Fraudulent transactions form only 0.17% of the total examples.\n",
        "\n",
        "Let us now go ahead and train a naive logistic regression model based on the same.\n",
        "\n",
        "### Model Training:\n",
        "#### Baseline Model:\n",
        "\n",
        "The original dataset is split into into training and testing sets. Also, the test set retains its original imbalance. If we do not stratify the dataset then our model will be unable to learn properly. Hence we are stratifying the Class variable so that there is no percentage imbalance in the two sets i.e. training and test sets."
      ]
    },
    {
      "cell_type": "code",
      "execution_count": 24,
      "metadata": {
        "colab": {
          "base_uri": "https://localhost:8080/"
        },
        "id": "dXXsnu64s1Ui",
        "outputId": "b6bbf5f2-a798-41c6-be01-73f49d6c50b1"
      },
      "outputs": [
        {
          "output_type": "stream",
          "name": "stdout",
          "text": [
            "Train set distribution:\n",
            "Class\n",
            "0    0.998271\n",
            "1    0.001729\n",
            "Name: proportion, dtype: float64\n",
            "\n",
            "Test set distribution:\n",
            "Class\n",
            "0    0.99828\n",
            "1    0.00172\n",
            "Name: proportion, dtype: float64\n"
          ]
        }
      ],
      "source": [
        "# Separate features and target\n",
        "X = df.drop(\"Class\", axis=1)\n",
        "y = df[\"Class\"]\n",
        "\n",
        "# Stratified split to preserve imbalance\n",
        "X_train, X_test, y_train, y_test = train_test_split(\n",
        "    X, y,\n",
        "    test_size=0.2,       # 80% train, 20% test\n",
        "    random_state=42,\n",
        "    stratify=y           # Keeps class ratio same as original\n",
        ")\n",
        "\n",
        "print(\"Train set distribution:\")\n",
        "print(y_train.value_counts(normalize=True))\n",
        "\n",
        "print(\"\\nTest set distribution:\")\n",
        "print(y_test.value_counts(normalize=True))\n"
      ]
    },
    {
      "cell_type": "code",
      "execution_count": 25,
      "metadata": {
        "colab": {
          "base_uri": "https://localhost:8080/",
          "height": 178
        },
        "id": "flnzmHmws8Hf",
        "outputId": "a38c4bb8-450c-4e92-9686-f84a36115715"
      },
      "outputs": [
        {
          "output_type": "execute_result",
          "data": {
            "text/plain": [
              "Class\n",
              "0    227451\n",
              "1       394\n",
              "Name: count, dtype: int64"
            ],
            "text/html": [
              "<div>\n",
              "<style scoped>\n",
              "    .dataframe tbody tr th:only-of-type {\n",
              "        vertical-align: middle;\n",
              "    }\n",
              "\n",
              "    .dataframe tbody tr th {\n",
              "        vertical-align: top;\n",
              "    }\n",
              "\n",
              "    .dataframe thead th {\n",
              "        text-align: right;\n",
              "    }\n",
              "</style>\n",
              "<table border=\"1\" class=\"dataframe\">\n",
              "  <thead>\n",
              "    <tr style=\"text-align: right;\">\n",
              "      <th></th>\n",
              "      <th>count</th>\n",
              "    </tr>\n",
              "    <tr>\n",
              "      <th>Class</th>\n",
              "      <th></th>\n",
              "    </tr>\n",
              "  </thead>\n",
              "  <tbody>\n",
              "    <tr>\n",
              "      <th>0</th>\n",
              "      <td>227451</td>\n",
              "    </tr>\n",
              "    <tr>\n",
              "      <th>1</th>\n",
              "      <td>394</td>\n",
              "    </tr>\n",
              "  </tbody>\n",
              "</table>\n",
              "</div><br><label><b>dtype:</b> int64</label>"
            ]
          },
          "metadata": {},
          "execution_count": 25
        }
      ],
      "source": [
        "y_train.value_counts()"
      ]
    },
    {
      "cell_type": "markdown",
      "metadata": {
        "id": "jUksTFS5tBAm"
      },
      "source": [
        "### Performance of Logistic Regression Model:"
      ]
    },
    {
      "cell_type": "code",
      "execution_count": 26,
      "metadata": {
        "colab": {
          "base_uri": "https://localhost:8080/"
        },
        "id": "qg_wYkR4s-ww",
        "outputId": "aba08d1b-4d9f-4186-8283-1249324a6ae0"
      },
      "outputs": [
        {
          "output_type": "stream",
          "name": "stdout",
          "text": [
            "Accuracy: 0.9992451107756047\n",
            "\n",
            "Confusion Matrix:\n",
            "[[56851    13]\n",
            " [   30    68]]\n",
            "\n",
            "Classification Report:\n",
            "              precision    recall  f1-score   support\n",
            "\n",
            "   Non-Fraud       1.00      1.00      1.00     56864\n",
            "       Fraud       0.84      0.69      0.76        98\n",
            "\n",
            "    accuracy                           1.00     56962\n",
            "   macro avg       0.92      0.85      0.88     56962\n",
            "weighted avg       1.00      1.00      1.00     56962\n",
            "\n"
          ]
        }
      ],
      "source": [
        "log_reg = LogisticRegression(max_iter=1000, random_state=42)\n",
        "\n",
        "log_reg.fit(X_train, y_train)\n",
        "y_pred = log_reg.predict(X_test)\n",
        "\n",
        "print(\"Accuracy:\", accuracy_score(y_test, y_pred))\n",
        "print(\"\\nConfusion Matrix:\")\n",
        "print(confusion_matrix(y_test, y_pred))\n",
        "print(\"\\nClassification Report:\")\n",
        "print(classification_report(y_test, y_pred, target_names=[\"Non-Fraud\", \"Fraud\"]))\n"
      ]
    },
    {
      "cell_type": "code",
      "execution_count": 27,
      "metadata": {
        "colab": {
          "base_uri": "https://localhost:8080/",
          "height": 410
        },
        "id": "EK46hAx2tAkF",
        "outputId": "fd92ee05-3623-4d82-ba88-ea902d40443a"
      },
      "outputs": [
        {
          "output_type": "display_data",
          "data": {
            "text/plain": [
              "<Figure size 600x400 with 2 Axes>"
            ],
            "image/png": "[encoded data removed]"
          },
          "metadata": {}
        }
      ],
      "source": [
        "# Predictions from your trained model\n",
        "y_pred = log_reg.predict(X_test)\n",
        "\n",
        "# Confusion Matrix\n",
        "cm = confusion_matrix(y_test, y_pred)\n",
        "\n",
        "# Plot Confusion Matrix\n",
        "plt.figure(figsize=(6,4))\n",
        "sns.heatmap(cm, annot=True, fmt=\"d\", cmap=\"Blues\",\n",
        "            xticklabels=[\"Non-Fraudulent\", \"Fraudulent\"],\n",
        "            yticklabels=[\"Non-Fraudulent\", \"Fraudulent\"])\n",
        "plt.xlabel(\"Predicted\")\n",
        "plt.ylabel(\"Actual\")\n",
        "plt.title(\"Confusion Matrix - Logistic Regression (Imbalanced Data)\")\n",
        "plt.show()\n"
      ]
    },
    {
      "cell_type": "markdown",
      "metadata": {
        "id": "pYEepMmNtM-e"
      },
      "source": [
        "#### **Why Accuracy is Misleading in Imbalanced Datasets**\n",
        "\n",
        "In the context of fraud detection, accuracy is not a reliable performance metric\n",
        "because the dataset is highly imbalanced: the vast majority of transactions are\n",
        "non-fraudulent.  \n",
        "\n",
        "For instance, if $99.8\\%$ of the transactions are non-fraudulent and only\n",
        "$0.2\\%$ are fraudulent, then a trivial classifier that always predicts\n",
        "``non-fraudulent`` would still achieve $99.8\\%$ accuracy, despite failing\n",
        "to identify a single fraudulent transaction.  \n",
        "\n",
        "This shows that a high accuracy score can be misleading, as it hides the\n",
        "model’s inability to detect the minority class (fraud). Therefore,\n",
        "alternative metrics such as **precision, recall, F1-score**, and the\n",
        "**confusion matrix** are more appropriate for evaluating model\n",
        "performance, with particular emphasis on the fraudulent class,\n",
        "since detecting these rare cases is the primary objective.\n",
        "\n"
      ]
    },
    {
      "cell_type": "markdown",
      "metadata": {
        "id": "d5TPRcRKtRop"
      },
      "source": [
        "### Part B: Gaussian Mixture Model (GMM) for Synthetic Sampling\n",
        "\n",
        "#### 🧠 Theoretical Foundation\n",
        "#### **GMM-based Synthetic Sampling vs. SMOTE**\n",
        "\n",
        "**SMOTE (Synthetic Minority Oversampling Technique):**  \n",
        "- SMOTE generates synthetic samples by interpolating between existing minority class points and their nearest neighbors.  \n",
        "- The process is deterministic and relies on linear combinations of feature vectors.  \n",
        "- While simple and effective, SMOTE does not model the *true underlying distribution* of the data, and may create unrealistic or noisy samples, especially in high-dimensional or non-linear feature spaces.\n",
        "\n",
        "**Gaussian Mixture Model (GMM)-based Sampling:**  \n",
        "- GMM is a **probabilistic model** that assumes the data is generated from a mixture of several Gaussian distributions, each representing a latent cluster.  \n",
        "- Instead of interpolating between neighbors, GMM learns the **parameters (means, covariances, mixing coefficients)** of these Gaussian components using the **Expectation-Maximization (EM)** algorithm.  \n",
        "- Synthetic samples are then drawn directly from this learned distribution, allowing them to reflect the **statistical properties and variability** of the minority class more faithfully.  \n",
        "- This makes GMM-based sampling more flexible and capable of capturing **multi-modal structures** in the data that SMOTE cannot.\n",
        "\n",
        "**Key Difference:**  \n",
        "- SMOTE is *geometry-based* (linear interpolation in feature space), whereas GMM-based sampling is *probabilistic and distribution-driven*.  \n",
        "- As a result, GMM can generate more realistic and diverse synthetic samples, potentially improving classifier performance without introducing as much bias or noise.\n"
      ]
    },
    {
      "cell_type": "markdown",
      "metadata": {
        "id": "zZiEnXNRu8S2"
      },
      "source": [
        "### 📌 Why GMMs Capture Complex Minority Class Distributions Well\n",
        "\n",
        "The **Gaussian Mixture Model (GMM)** is a flexible probabilistic model that assumes data is generated from a mixture of several Gaussian distributions. Each Gaussian component represents a latent sub-population in the data. This property makes GMMs particularly effective in capturing **complex or multi-modal distributions**, such as those often seen in imbalanced datasets.\n",
        "\n",
        "#### Key Theoretical Strengths of GMMs:\n",
        "\n",
        "1. **Multi-Modality:**\n",
        "   - Real-world data, especially for minority classes, may not follow a single peak or cluster.  \n",
        "   - GMMs naturally model data as a weighted sum of multiple Gaussians, allowing them to capture **multiple sub-groups** or distinct clusters.\n",
        "\n",
        "2. **Soft Clustering with Probabilistic Assignments:**\n",
        "   - Each data point is assigned a probability of belonging to each component, rather than a hard label.  \n",
        "   - This soft assignment helps in modeling **overlapping clusters** and regions where class boundaries are fuzzy.\n",
        "\n",
        "3. **Flexible Covariance Structures:**\n",
        "   - By estimating a full covariance matrix for each component, GMMs can capture **correlations and orientations** in the feature space.  \n",
        "   - This enables the model to represent elongated, skewed, or arbitrarily oriented clusters — not just spherical shapes.\n",
        "\n",
        "4. **Generative Modeling:**\n",
        "   - Since GMMs define a complete probability density function, they can be used to **sample new, realistic points**.  \n",
        "   - This makes them well-suited for tasks like synthetic data generation in minority classes.\n",
        "\n",
        "5. **Scalability to High Dimensions:**\n",
        "   - With enough components, GMMs can approximate **any continuous distribution** (they are universal density approximators).  \n",
        "   - This theoretical flexibility ensures that even highly complex or irregular data shapes can be modeled.\n",
        "\n",
        "---\n",
        "\n",
        "✅ **In summary:**  \n",
        "GMMs are theoretically powerful because they do not restrict the data to one cluster or shape. Instead, by combining multiple Gaussian components with flexible parameters, they can approximate **multi-cluster, overlapping, and high-dimensional distributions**, which is exactly what makes them effective for modeling minority classes with diverse behaviors.\n"
      ]
    },
    {
      "cell_type": "markdown",
      "metadata": {
        "id": "C4DVk4a1SDT0"
      },
      "source": [
        "### GMM Implementation"
      ]
    },
    {
      "cell_type": "code",
      "execution_count": 28,
      "metadata": {
        "colab": {
          "base_uri": "https://localhost:8080/"
        },
        "id": "1ZIm78r7u6hR",
        "outputId": "bbf53547-d2e2-485e-9350-ce218814dd24"
      },
      "outputs": [
        {
          "output_type": "stream",
          "name": "stdout",
          "text": [
            "Shape of Fraudulent Transactions Data: (492, 30)\n",
            "Converged: True\n",
            "Number of iterations: 9\n",
            "Weights (mixing coefficients): [0.17479247 0.28657813 0.5386294 ]\n",
            "Means (cluster centers): [[ 9.22419451e+04 -8.38414324e+00  6.42433388e+00 -1.08709994e+01\n",
            "   5.88778075e+00 -5.99099053e+00 -7.38916103e-01 -1.14402114e+01\n",
            "  -4.29042651e+00 -3.43393790e+00 -9.22220558e+00  4.85092405e+00\n",
            "  -9.58068204e+00  2.22164678e-01 -7.07543252e+00 -9.77980086e-01\n",
            "  -6.27998133e+00 -9.90144681e+00 -3.66673724e+00  9.77032197e-01\n",
            "   5.01287018e-01  1.03470685e+00  2.86070230e-01  4.37082451e-01\n",
            "   8.79808454e-03 -3.44491703e-01 -1.33310632e-01 -8.21373140e-01\n",
            "  -1.01792260e-01  1.05967378e+02]\n",
            " [ 1.43158704e+05 -1.44495511e+00  1.43102734e+00 -4.43203449e+00\n",
            "   3.59000448e+00  1.43837291e-01 -1.27305367e+00 -1.67608059e+00\n",
            "   3.43872167e-02 -1.75436557e+00 -3.04874012e+00  2.36718620e+00\n",
            "  -3.57449792e+00 -3.80122136e-01 -6.12357006e+00 -1.14295026e-01\n",
            "  -1.99759233e+00 -2.65701032e+00 -4.73151820e-01  3.02371178e-01\n",
            "   3.04261904e-01  5.84345295e-01  9.59414096e-02 -3.09427609e-02\n",
            "  -1.75077227e-01 -6.35708772e-02  9.31787032e-02  1.37043353e-01\n",
            "   1.62290725e-01  1.56912200e+02]\n",
            " [ 4.38101886e+04 -5.36987172e+00  3.88161463e+00 -7.17188487e+00\n",
            "   4.61183995e+00 -3.98282281e+00 -1.67787054e+00 -5.73444414e+00\n",
            "   2.43342742e+00 -2.74424980e+00 -5.92468313e+00  4.22161159e+00\n",
            "  -6.61009038e+00 -7.28364265e-02 -7.38932801e+00  2.05650246e-01\n",
            "  -4.58531592e+00 -7.74873594e+00 -2.72876881e+00  7.85750768e-01\n",
            "   3.66677703e-01  6.78144942e-01 -1.17796674e-01 -2.00210333e-01\n",
            "  -1.04886292e-01  2.22567629e-01  8.95733555e-02  5.10315647e-01\n",
            "   8.71672429e-02  1.09020073e+02]]\n",
            "Covariances: [[[ 1.71639952e+08 -1.72993601e+03  8.90271539e+03 ... -7.44807087e+03\n",
            "   -1.01076000e+03 -6.89433006e+05]\n",
            "  [-1.72993601e+03  6.57592427e+01 -4.20009133e+01 ...  1.48187767e+01\n",
            "    1.95876755e+00  4.05943853e+02]\n",
            "  [ 8.90271539e+03 -4.20009133e+01  3.25524597e+01 ... -8.90443506e+00\n",
            "   -3.53095212e-01 -5.02756731e+02]\n",
            "  ...\n",
            "  [-7.44807087e+03  1.48187767e+01 -8.90443506e+00 ...  4.96238898e+00\n",
            "    8.62710541e-01  1.17995939e+02]\n",
            "  [-1.01076000e+03  1.95876755e+00 -3.53095212e-01 ...  8.62710541e-01\n",
            "    4.56071352e-01 -4.64147905e+01]\n",
            "  [-6.89433006e+05  4.05943853e+02 -5.02756731e+02 ...  1.17995939e+02\n",
            "   -4.64147905e+01  4.85089068e+04]]\n",
            "\n",
            " [[ 3.34878072e+08  3.04048411e+03  8.16083900e+03 ... -3.20742232e+02\n",
            "   -4.88328210e+02 -1.20259279e+06]\n",
            "  [ 3.04048411e+03  6.12915065e+00  1.33862048e+00 ...  5.04463559e-01\n",
            "    1.82432091e-02 -5.50030711e+01]\n",
            "  [ 8.16083900e+03  1.33862048e+00  6.70370280e+00 ... -2.85375532e-01\n",
            "    3.89975810e-01 -4.10703536e+02]\n",
            "  ...\n",
            "  [-3.20742232e+02  5.04463559e-01 -2.85375532e-01 ...  6.28254276e-01\n",
            "   -1.01978928e-01  1.47364645e+01]\n",
            "  [-4.88328210e+02  1.82432091e-02  3.89975810e-01 ... -1.01978928e-01\n",
            "    2.06861272e-01 -4.98568393e+00]\n",
            "  [-1.20259279e+06 -5.50030711e+01 -4.10703536e+02 ...  1.47364645e+01\n",
            "   -4.98568393e+00  1.08923321e+05]]\n",
            "\n",
            " [[ 5.26062867e+08  3.81949063e+04 -3.25012993e+04 ... -2.75646975e+03\n",
            "    7.36053326e+02  3.93267022e+05]\n",
            "  [ 3.81949063e+04  5.01807403e+01 -2.39490320e+01 ... -1.28232793e+00\n",
            "    9.56286782e-01 -3.52701291e+01]\n",
            "  [-3.25012993e+04 -2.39490320e+01  1.48179951e+01 ...  1.02905204e+00\n",
            "   -8.01981947e-02 -1.16342716e+02]\n",
            "  ...\n",
            "  [-2.75646975e+03 -1.28232793e+00  1.02905204e+00 ...  1.13198123e+00\n",
            "    1.05179359e-01  1.65714239e+01]\n",
            "  [ 7.36053326e+02  9.56286782e-01 -8.01981947e-02 ...  1.05179359e-01\n",
            "    2.82558276e-01 -1.56201916e+01]\n",
            "  [ 3.93267022e+05 -3.52701291e+01 -1.16342716e+02 ...  1.65714239e+01\n",
            "   -1.56201916e+01  4.74787129e+04]]]\n"
          ]
        }
      ],
      "source": [
        "# Extract only the minority class (fraudulent transactions)\n",
        "fraud_data = df[df['Class'] == 1].drop(columns=['Class'])\n",
        "\n",
        "print(\"Shape of Fraudulent Transactions Data:\", fraud_data.shape)\n",
        "\n",
        "# Fit a Gaussian Mixture Model\n",
        "gmm = GaussianMixture(\n",
        "    n_components=3,\n",
        "    covariance_type='full',\n",
        "    random_state=42\n",
        ")\n",
        "\n",
        "gmm.fit(fraud_data)\n",
        "\n",
        "# Print fitted parameters\n",
        "print(\"Converged:\", gmm.converged_)\n",
        "print(\"Number of iterations:\", gmm.n_iter_)\n",
        "print(\"Weights (mixing coefficients):\", gmm.weights_)\n",
        "print(\"Means (cluster centers):\", gmm.means_)\n",
        "print(\"Covariances:\", gmm.covariances_)\n"
      ]
    },
    {
      "cell_type": "markdown",
      "metadata": {
        "id": "Xfe-7Qvjhu-a"
      },
      "source": [
        "  So, we could fit a GMM based on the original data. Now, let us try and find out what is the optimal number of GMMs which we should fit on the dataset. For this hyperparameter tuning, we will use AIC and BIC as our guides."
      ]
    },
    {
      "cell_type": "markdown",
      "metadata": {
        "id": "RwNgaDTNSRnY"
      },
      "source": [
        "### Akaike Information Criterion (AIC) or Bayesian Information Criterion (BIC)\n",
        "\n",
        "Let us use AIC and BIC to identify the optimal number of components which we can use."
      ]
    },
    {
      "cell_type": "code",
      "execution_count": 29,
      "metadata": {
        "colab": {
          "base_uri": "https://localhost:8080/",
          "height": 522
        },
        "id": "ECwjXv5HvVcV",
        "outputId": "d34eca0e-d867-482e-ca50-d9628913cbfc"
      },
      "outputs": [
        {
          "output_type": "display_data",
          "data": {
            "text/plain": [
              "<Figure size 800x500 with 1 Axes>"
            ],
            "image/png": "[encoded data removed]"
          },
          "metadata": {}
        },
        {
          "output_type": "stream",
          "name": "stdout",
          "text": [
            "Optimal k by AIC: 9\n",
            "Optimal k by BIC: 8\n"
          ]
        }
      ],
      "source": [
        "# Fraudulent class only (dropping 'Class')\n",
        "fraud_data = df[df['Class'] == 1].drop(columns=['Class'])\n",
        "\n",
        "n_components = range(1, 10)\n",
        "aic_values = []\n",
        "bic_values = []\n",
        "\n",
        "for k in n_components:\n",
        "    gmm = GaussianMixture(n_components=k, covariance_type='full', random_state=42)\n",
        "    gmm.fit(fraud_data)\n",
        "    aic_values.append(gmm.aic(fraud_data))\n",
        "    bic_values.append(gmm.bic(fraud_data))\n",
        "\n",
        "# Plot AIC and BIC\n",
        "plt.figure(figsize=(8, 5))\n",
        "plt.plot(n_components, aic_values, label=\"AIC\", marker='o')\n",
        "plt.plot(n_components, bic_values, label=\"BIC\", marker='o')\n",
        "plt.xlabel(\"Number of Components (k)\")\n",
        "plt.ylabel(\"Score\")\n",
        "plt.title(\"Model Selection using AIC and BIC\")\n",
        "plt.legend()\n",
        "plt.grid(True)\n",
        "plt.show()\n",
        "\n",
        "# Print best values\n",
        "best_k_aic = n_components[np.argmin(aic_values)]\n",
        "best_k_bic = n_components[np.argmin(bic_values)]\n",
        "print(f\"Optimal k by AIC: {best_k_aic}\")\n",
        "print(f\"Optimal k by BIC: {best_k_bic}\")\n"
      ]
    },
    {
      "cell_type": "markdown",
      "metadata": {
        "id": "fzbqFPZAwSWL"
      },
      "source": [
        "### 📊 Model Selection with AIC and BIC\n",
        "\n",
        "The plot above shows the AIC and BIC scores for different values of **k** (number of mixture components in the GMM):\n",
        "\n",
        "- **AIC (blue line):** Keeps decreasing as `k` increases.  \n",
        "  - This means the model fit improves with more components.  \n",
        "  - However, AIC tends to **favor more complex models**, which can lead to overfitting.  \n",
        "\n",
        "- **BIC (orange line):** Drops sharply from `k=1 → k=3`, then flattens, with a small minimum around **k=8**.  \n",
        "  - BIC penalizes model complexity more heavily than AIC.  \n",
        "  - This makes BIC more conservative and often better for generalization.  \n",
        "\n",
        "---\n",
        "\n",
        "### 🔎 Interpretation\n",
        "- The **largest improvement** in both AIC and BIC happens between `k=1` and `k=3`.  \n",
        "- Beyond `k=3–4`, improvements are marginal, meaning additional components mostly capture noise rather than true structure.  \n",
        "- AIC’s optimal choice (`k=10`) is likely **too complex** for the small minority class.  \n",
        "- BIC’s minimum (`k=8`) is reasonable, but still more complex than necessary.  \n",
        "\n",
        "---\n",
        "\n",
        "### ✅ Conclusion\n",
        "The **elbow point around k ≈ 3–4** is the most meaningful choice, since it balances model complexity with explanatory power.  \n",
        "- If the goal is **robust generalization** → choose `k=3` or `k=4`.  \n",
        "- If the goal is **maximum flexibility in capturing fraud subgroups** → BIC’s choice (`k=8`) can also be justified.  \n",
        "- Avoid AIC’s choice (`k=10`) as it likely overfits.  \n",
        "\n"
      ]
    },
    {
      "cell_type": "markdown",
      "metadata": {
        "id": "UboHdguqSldS"
      },
      "source": [
        "## Synthetic Data Generation"
      ]
    },
    {
      "cell_type": "code",
      "execution_count": 30,
      "metadata": {
        "colab": {
          "base_uri": "https://localhost:8080/"
        },
        "id": "4VRzLz-wvgOv",
        "outputId": "b2970b2b-26b9-4b46-fef2-fc560374c102"
      },
      "outputs": [
        {
          "output_type": "stream",
          "name": "stdout",
          "text": [
            "Minority samples in training set: 394\n",
            "Majority samples in training set:  227451\n",
            "Number of synthetic minority samples required to balance training set: 227057\n",
            "GMM fitted. Converged: True n_iter: 12\n",
            "\n",
            "After GMM sampling:\n",
            "Total training samples: 454902\n",
            "Training class distribution:\n",
            "Class\n",
            "0    227451\n",
            "1    227451\n",
            "Name: count, dtype: int64\n"
          ]
        }
      ],
      "source": [
        "# Extract minority samples from the training set\n",
        "X_train_df = pd.DataFrame(X_train) if not isinstance(X_train, pd.DataFrame) else X_train.copy()\n",
        "y_train_sr = pd.Series(y_train) if not isinstance(y_train, pd.Series) else y_train.copy()\n",
        "\n",
        "X_minority_train = X_train_df[y_train_sr == 1]\n",
        "n_minority = len(X_minority_train)\n",
        "n_majority = (y_train_sr == 0).sum()\n",
        "\n",
        "print(f\"Minority samples in training set: {n_minority}\")\n",
        "print(f\"Majority samples in training set:  {n_majority}\")\n",
        "\n",
        "if n_minority == 0:\n",
        "    raise ValueError(\"No minority samples in X_train. Cannot fit GMM.\")\n",
        "\n",
        "n_needed = int(n_majority - n_minority)\n",
        "print(f\"Number of synthetic minority samples required to balance training set: {n_needed}\")\n",
        "\n",
        "chosen_k = 3  # <= change to value you determined (e.g., 3 or 4 or 8)\n",
        "gmm = GaussianMixture(n_components=chosen_k, covariance_type='full', random_state=42)\n",
        "gmm.fit(X_minority_train.values)   # use numpy array for fit\n",
        "\n",
        "print(\"GMM fitted. Converged:\", gmm.converged_, \"n_iter:\", gmm.n_iter_)\n",
        "\n",
        "if n_needed > 0:\n",
        "    X_synth, comp = gmm.sample(n_needed)\n",
        "else:\n",
        "    X_synth = np.empty((0, X_train_df.shape[1]))\n",
        "\n",
        "X_synth_df = pd.DataFrame(X_synth, columns=X_train_df.columns)\n",
        "\n",
        "y_synth_sr = pd.Series(np.ones(X_synth_df.shape[0], dtype=int), name=(y_train_sr.name if hasattr(y_train_sr, 'name') else 'Class'))\n",
        "\n",
        "# Concatenate\n",
        "X_train_gmm = pd.concat([X_train_df.reset_index(drop=True), X_synth_df.reset_index(drop=True)], axis=0).reset_index(drop=True)\n",
        "y_train_gmm = pd.concat([y_train_sr.reset_index(drop=True), y_synth_sr.reset_index(drop=True)], axis=0).reset_index(drop=True)\n",
        "\n",
        "print(\"\\nAfter GMM sampling:\")\n",
        "print(\"Total training samples:\", len(X_train_gmm))\n",
        "print(\"Training class distribution:\")\n",
        "print(y_train_gmm.value_counts())\n"
      ]
    },
    {
      "cell_type": "markdown",
      "metadata": {
        "id": "LNOhRHkrwx_y"
      },
      "source": [
        "### Explanation of Sampling from a Gaussian Mixture Model (GMM)\n",
        "\n",
        "The process of generating new synthetic data points from a **Gaussian Mixture Model (GMM)** involves the following steps:\n",
        "\n",
        "1. **Component Selection**  \n",
        "   - Each Gaussian component in the GMM has an associated **mixture weight** (πₖ), which represents the probability of selecting that component.  \n",
        "   - A component is chosen randomly according to these probabilities.  \n",
        "   - For example, if π = [0.5, 0.3, 0.2], then the first component will be chosen 50% of the time, the second 30%, and the third 20%.\n",
        "\n",
        "2. **Sample from the Chosen Gaussian**  \n",
        "   - Once a component is selected, a data point is drawn from the corresponding **multivariate normal distribution**:  \n",
        "When a component $k$ is selected, we draw from its multivariate normal:\n",
        "\n",
        "$$\n",
        "x \\sim \\mathcal{N}(\\mu_k, \\Sigma_k)\n",
        "$$\n",
        "\n",
        "Here, $\\mu_k$ is the mean vector and $\\Sigma_k$ is the covariance matrix of component $k$.\n",
        "\n",
        "\n",
        "3. **Repeat the Process**  \n",
        "   - To generate multiple samples, repeat steps 1 and 2 until the desired number of synthetic points is obtained.  \n",
        "   - The result is a dataset that follows the same distribution as the original data modeled by the GMM.\n",
        "\n",
        "This method is widely used for **data augmentation**, **imbalanced dataset handling**, and **simulation of realistic synthetic data**.\n",
        "\n"
      ]
    },
    {
      "cell_type": "markdown",
      "metadata": {
        "id": "qcJe8bMAiUay"
      },
      "source": [
        "Let us now generate synthetic samples on the data using the concept of GMM synthetic sampling so that both the majority and minority class have the same number of representative samples in the synthetic and newly generated data."
      ]
    },
    {
      "cell_type": "code",
      "execution_count": 31,
      "metadata": {
        "colab": {
          "base_uri": "https://localhost:8080/"
        },
        "id": "Z39Sh8wewsaw",
        "outputId": "d1de7cd0-cbe0-4ca5-c38c-ef6907668660"
      },
      "outputs": [
        {
          "output_type": "stream",
          "name": "stdout",
          "text": [
            "Minority shape: (492, 30)\n",
            "Majority shape: (284315, 30)\n",
            "Generating 283823 synthetic samples...\n",
            "New class distribution:\n",
            "Class\n",
            "1.0    283823\n",
            "Name: count, dtype: int64\n"
          ]
        }
      ],
      "source": [
        "# Split the dataset into minority and majority\n",
        "minority_data = df[df['Class'] == 1].drop(columns=['Class'])\n",
        "majority_data = df[df['Class'] == 0].drop(columns=['Class'])\n",
        "\n",
        "# Save the labels separately\n",
        "minority_labels = df[df['Class'] == 1]['Class']\n",
        "majority_labels = df[df['Class'] == 0]['Class']\n",
        "\n",
        "print(\"Minority shape:\", minority_data.shape)\n",
        "print(\"Majority shape:\", majority_data.shape)\n",
        "\n",
        "\n",
        "# Number of synthetic samples needed to balance the dataset\n",
        "n_minority = len(minority_data)\n",
        "n_majority = len(majority_data)\n",
        "n_to_generate = n_majority - n_minority\n",
        "\n",
        "print(f\"Generating {n_to_generate} synthetic samples...\")\n",
        "\n",
        "# Generate synthetic samples from the GMM\n",
        "synthetic_samples, _ = gmm.sample(n_to_generate)\n",
        "\n",
        "# Put into a DataFrame with the same column names\n",
        "synthetic_df = pd.DataFrame(synthetic_samples, columns=minority_data.columns)\n",
        "\n",
        "# Assign minority class label (e.g., 1)\n",
        "synthetic_df['Class'] = 1\n",
        "\n",
        "# Combine: majority + minority + synthetic\n",
        "balanced_df = pd.concat([majority_data, minority_data, synthetic_df], axis=0).reset_index(drop=True)\n",
        "\n",
        "print(\"New class distribution:\")\n",
        "print(balanced_df['Class'].value_counts())\n"
      ]
    },
    {
      "cell_type": "markdown",
      "metadata": {
        "id": "EjP3U7zJEGyB"
      },
      "source": [
        "###🔹Rebalancing with CBU\n",
        "\n",
        "CBU stands for Clustering Based Undersampling. I.e. we are scaling down the majority data and scaling up the minority data to create certain number of samples."
      ]
    },
    {
      "cell_type": "code",
      "execution_count": 32,
      "metadata": {
        "colab": {
          "base_uri": "https://localhost:8080/"
        },
        "id": "IHNXaZucxxzS",
        "outputId": "49f3064d-2dcf-4696-e332-48afad334d52"
      },
      "outputs": [
        {
          "output_type": "stream",
          "name": "stdout",
          "text": [
            "Undersampled majority shape: (980, 30)\n"
          ]
        }
      ],
      "source": [
        "minority_data = df[df['Class'] == 1].drop(columns=['Class'])\n",
        "majority_data = df[df['Class'] == 0].drop(columns=['Class'])\n",
        "\n",
        "k = 10\n",
        "kmeans = KMeans(n_clusters=k, random_state=42)\n",
        "majority_clusters = kmeans.fit_predict(majority_data)\n",
        "\n",
        "majority_data_clustered = majority_data.copy()\n",
        "majority_data_clustered['Cluster'] = majority_clusters\n",
        "\n",
        "target_majority_size = len(minority_data) * 2  # e.g. keep double the minority\n",
        "\n",
        "undersampled_majority = majority_data_clustered.groupby('Cluster', group_keys=False)\\\n",
        "    .apply(lambda x: x.sample(int(len(x) * target_majority_size / len(majority_data)),\n",
        "                              random_state=42))\n",
        "\n",
        "undersampled_majority = undersampled_majority.drop(columns=['Cluster'])\n",
        "print(\"Undersampled majority shape:\", undersampled_majority.shape)\n"
      ]
    },
    {
      "cell_type": "markdown",
      "metadata": {
        "id": "fwx3XhgXEJ5z"
      },
      "source": [
        "### 🔹 Fit GMM on Minority and Generate Synthetic Data\n",
        "In this, we are generating samples and fitting them using a GMM. Also, we are allowing full covariance so that the shape of the GMM is not constrained to be circular or so, but can have varying characteristics as an ellipsoid."
      ]
    },
    {
      "cell_type": "code",
      "execution_count": 33,
      "metadata": {
        "id": "vAvHUi4bEDNE"
      },
      "outputs": [],
      "source": [
        "# Fit GMM on minority class\n",
        "gmm = GaussianMixture(n_components=3, covariance_type='full', random_state=42)\n",
        "gmm.fit(minority_data)\n",
        "\n",
        "# Number of synthetic samples needed\n",
        "n_to_generate = len(undersampled_majority) - len(minority_data)\n",
        "\n",
        "synthetic_samples, _ = gmm.sample(n_to_generate)\n",
        "synthetic_df = pd.DataFrame(synthetic_samples, columns=minority_data.columns)\n"
      ]
    },
    {
      "cell_type": "code",
      "execution_count": 34,
      "metadata": {
        "colab": {
          "base_uri": "https://localhost:8080/"
        },
        "id": "KV6bzFKLEOQz",
        "outputId": "11f3cf15-94d7-459e-da19-1a0b7163a04d"
      },
      "outputs": [
        {
          "output_type": "stream",
          "name": "stdout",
          "text": [
            "New class distribution:\n",
            "Class\n",
            "0    980\n",
            "1    980\n",
            "Name: count, dtype: int64\n"
          ]
        }
      ],
      "source": [
        "# Add labels\n",
        "undersampled_majority['Class'] = 0\n",
        "minority_full = minority_data.copy()\n",
        "minority_full['Class'] = 1\n",
        "synthetic_df['Class'] = 1\n",
        "\n",
        "# Combine\n",
        "balanced_df = pd.concat([undersampled_majority, minority_full, synthetic_df], axis=0).reset_index(drop=True)\n",
        "\n",
        "print(\"New class distribution:\")\n",
        "print(balanced_df['Class'].value_counts())\n"
      ]
    },
    {
      "cell_type": "markdown",
      "metadata": {
        "id": "ZH05foopEWnv"
      },
      "source": [
        "## Part C: Performance Evaluation and Conclusion\n",
        "### 1. Model Training and Evaluation\n",
        "\n",
        "Let us now train the different generated datasets using Logistic Regression and see how it is performing against each other."
      ]
    },
    {
      "cell_type": "code",
      "execution_count": 35,
      "metadata": {
        "colab": {
          "base_uri": "https://localhost:8080/",
          "height": 940
        },
        "id": "wrEAzWZbb3C3",
        "outputId": "b0bf3d91-0efc-48cb-e5bb-9607f8e15e61"
      },
      "outputs": [
        {
          "output_type": "stream",
          "name": "stdout",
          "text": [
            "Train set size: (227845, 30)  Test set size: (56962, 30)\n",
            "Class distribution in train set:\n",
            " Class\n",
            "0    227451\n",
            "1       394\n",
            "Name: count, dtype: int64\n",
            "Minority samples: 394, Majority samples: 227451\n",
            "\n",
            "Balanced training distribution:\n",
            "Class\n",
            "0    227451\n",
            "1    227451\n",
            "Name: count, dtype: int64\n",
            "\n",
            "📊 Logistic Regression on GMM-balanced data (k=3)\n",
            "              precision    recall  f1-score   support\n",
            "\n",
            "           0      1.000     0.971     0.985     56864\n",
            "           1      0.050     0.888     0.095        98\n",
            "\n",
            "    accuracy                          0.971     56962\n",
            "   macro avg      0.525     0.929     0.540     56962\n",
            "weighted avg      0.998     0.971     0.984     56962\n",
            "\n",
            "Confusion Matrix:\n",
            " [[55227  1637]\n",
            " [   11    87]]\n"
          ]
        },
        {
          "output_type": "display_data",
          "data": {
            "text/plain": [
              "<Figure size 640x480 with 2 Axes>"
            ],
            "image/png": "[encoded data removed]"
          },
          "metadata": {}
        }
      ],
      "source": [
        "X = df.drop(columns=['Class'])\n",
        "y = df['Class']\n",
        "\n",
        "X_train, X_test, y_train, y_test = train_test_split(\n",
        "    X, y, test_size=0.2, stratify=y, random_state=42\n",
        ")\n",
        "\n",
        "print(\"Train set size:\", X_train.shape, \" Test set size:\", X_test.shape)\n",
        "print(\"Class distribution in train set:\\n\", y_train.value_counts())\n",
        "\n",
        "X_train_df = pd.DataFrame(X_train)\n",
        "y_train_sr = pd.Series(y_train)\n",
        "\n",
        "X_minority_train = X_train_df[y_train_sr == 1]\n",
        "n_minority = len(X_minority_train)\n",
        "n_majority = (y_train_sr == 0).sum()\n",
        "\n",
        "print(f\"Minority samples: {n_minority}, Majority samples: {n_majority}\")\n",
        "\n",
        "gmm = GaussianMixture(n_components=3, covariance_type='full', random_state=42)\n",
        "gmm.fit(X_minority_train.values)\n",
        "\n",
        "n_needed = n_majority - n_minority\n",
        "X_synth, _ = gmm.sample(n_needed)\n",
        "X_synth_df = pd.DataFrame(X_synth, columns=X_train_df.columns)\n",
        "\n",
        "y_synth_sr = pd.Series(np.ones(len(X_synth_df), dtype=int), name=\"Class\")\n",
        "\n",
        "X_train_gmm = pd.concat([X_train_df.reset_index(drop=True),\n",
        "                         X_synth_df.reset_index(drop=True)], axis=0)\n",
        "y_train_gmm = pd.concat([y_train_sr.reset_index(drop=True),\n",
        "                         y_synth_sr.reset_index(drop=True)], axis=0)\n",
        "\n",
        "print(\"\\nBalanced training distribution:\")\n",
        "print(y_train_gmm.value_counts())\n",
        "\n",
        "lr_gmm = LogisticRegression(max_iter=500, random_state=42)\n",
        "lr_gmm.fit(X_train_gmm, y_train_gmm)\n",
        "\n",
        "# --- 7. Evaluate ---\n",
        "y_pred_gmm = lr_gmm.predict(X_test)\n",
        "\n",
        "print(\"\\n📊 Logistic Regression on GMM-balanced data (k=3)\")\n",
        "print(classification_report(y_test, y_pred_gmm, digits=3))\n",
        "\n",
        "cm_gmm = confusion_matrix(y_test, y_pred_gmm)\n",
        "print(\"Confusion Matrix:\\n\", cm_gmm)\n",
        "\n",
        "disp = ConfusionMatrixDisplay(confusion_matrix=cm_gmm,\n",
        "                              display_labels=lr_gmm.classes_)\n",
        "disp.plot(cmap=\"Blues\", values_format=\"d\")\n",
        "plt.title(\"Confusion Matrix - Logistic Regression (GMM Balanced, k=3)\")\n",
        "plt.show()\n"
      ]
    },
    {
      "cell_type": "code",
      "execution_count": 36,
      "metadata": {
        "colab": {
          "base_uri": "https://localhost:8080/"
        },
        "id": "z0MFg9aEdxPC",
        "outputId": "ea5e3597-8e82-4480-8e48-c58f1ff49c37"
      },
      "outputs": [
        {
          "output_type": "stream",
          "name": "stdout",
          "text": [
            "Original class distribution: [227451    394]\n",
            "After CBU class distribution: [393 394]\n",
            "\n",
            "Confusion Matrix (CBU):\n",
            " [[54531  2333]\n",
            " [    9    89]]\n",
            "\n",
            "Classification Report (CBU):\n",
            "               precision    recall  f1-score   support\n",
            "\n",
            "           0       1.00      0.96      0.98     56864\n",
            "           1       0.04      0.91      0.07        98\n",
            "\n",
            "    accuracy                           0.96     56962\n",
            "   macro avg       0.52      0.93      0.52     56962\n",
            "weighted avg       1.00      0.96      0.98     56962\n",
            "\n"
          ]
        }
      ],
      "source": [
        "# ------------------------\n",
        "# Cluster-Based Undersampling (CBU)\n",
        "# ------------------------\n",
        "def cluster_based_undersampling(X, y, n_clusters=3, random_state=42):\n",
        "    # Convert to numpy arrays (ensures boolean masking works correctly)\n",
        "    X = np.array(X)\n",
        "    y = np.array(y)\n",
        "\n",
        "    # Split majority and minority\n",
        "    X_minority = X[y == 1]\n",
        "    X_majority = X[y == 0]\n",
        "\n",
        "    # Fit KMeans to majority\n",
        "    kmeans = KMeans(n_clusters=n_clusters, random_state=random_state)\n",
        "    clusters = kmeans.fit_predict(X_majority)\n",
        "\n",
        "    # Sample equally from each cluster to match minority size\n",
        "    samples_per_cluster = len(X_minority) // n_clusters\n",
        "    X_majority_resampled = []\n",
        "\n",
        "    for c in range(n_clusters):\n",
        "        cluster_points = X_majority[clusters == c]\n",
        "        if len(cluster_points) > samples_per_cluster:\n",
        "            sampled_points = cluster_points[np.random.choice(\n",
        "                len(cluster_points), samples_per_cluster, replace=False\n",
        "            )]\n",
        "        else:\n",
        "            sampled_points = cluster_points  # take all if fewer\n",
        "        X_majority_resampled.append(sampled_points)\n",
        "\n",
        "    X_majority_resampled = np.vstack(X_majority_resampled)\n",
        "\n",
        "    # Combine with minority\n",
        "    X_resampled = np.vstack((X_majority_resampled, X_minority))\n",
        "    y_resampled = np.hstack((\n",
        "        np.zeros(len(X_majority_resampled), dtype=int),\n",
        "        np.ones(len(X_minority), dtype=int)\n",
        "    ))\n",
        "\n",
        "    return X_resampled, y_resampled\n",
        "\n",
        "\n",
        "\n",
        "# ------------------------\n",
        "# Apply Train-Test Split\n",
        "# ------------------------\n",
        "# Assuming your original X, y are defined\n",
        "X_train, X_test, y_train, y_test = train_test_split(\n",
        "    X, y, test_size=0.2, stratify=y, random_state=42\n",
        ")\n",
        "\n",
        "# Apply CBU\n",
        "X_train_cbu, y_train_cbu = cluster_based_undersampling(X_train, y_train, n_clusters=3)\n",
        "\n",
        "print(\"Original class distribution:\", np.bincount(y_train.astype(int)))\n",
        "print(\"After CBU class distribution:\", np.bincount(y_train_cbu.astype(int)))\n",
        "\n",
        "# ------------------------\n",
        "# Train Logistic Regression\n",
        "# ------------------------\n",
        "lr_cbu = LogisticRegression(max_iter=500, random_state=42)\n",
        "lr_cbu.fit(X_train_cbu, y_train_cbu)\n",
        "\n",
        "# Evaluate\n",
        "y_pred_cbu = lr_cbu.predict(X_test)\n",
        "print(\"\\nConfusion Matrix (CBU):\\n\", confusion_matrix(y_test, y_pred_cbu))\n",
        "print(\"\\nClassification Report (CBU):\\n\", classification_report(y_test, y_pred_cbu))\n"
      ]
    },
    {
      "cell_type": "code",
      "execution_count": 37,
      "metadata": {
        "colab": {
          "base_uri": "https://localhost:8080/",
          "height": 732
        },
        "id": "-_dThqd_ec2m",
        "outputId": "1e8bf9e6-e27e-46cf-97b8-d01c84cb9995"
      },
      "outputs": [
        {
          "output_type": "stream",
          "name": "stdout",
          "text": [
            "\n",
            "Confusion Matrix (CBU):\n",
            " [[54531  2333]\n",
            " [    9    89]]\n",
            "\n",
            "Classification Report (CBU):\n",
            "               precision    recall  f1-score   support\n",
            "\n",
            "           0       1.00      0.96      0.98     56864\n",
            "           1       0.04      0.91      0.07        98\n",
            "\n",
            "    accuracy                           0.96     56962\n",
            "   macro avg       0.52      0.93      0.52     56962\n",
            "weighted avg       1.00      0.96      0.98     56962\n",
            "\n"
          ]
        },
        {
          "output_type": "display_data",
          "data": {
            "text/plain": [
              "<Figure size 640x480 with 2 Axes>"
            ],
            "image/png": "[encoded data removed]"
          },
          "metadata": {}
        }
      ],
      "source": [
        "# Evaluate\n",
        "y_pred_cbu = lr_cbu.predict(X_test)\n",
        "\n",
        "# Text results\n",
        "print(\"\\nConfusion Matrix (CBU):\\n\", confusion_matrix(y_test, y_pred_cbu))\n",
        "print(\"\\nClassification Report (CBU):\\n\", classification_report(y_test, y_pred_cbu))\n",
        "\n",
        "# Plot Confusion Matrix\n",
        "cm_cbu = confusion_matrix(y_test, y_pred_cbu)\n",
        "disp = ConfusionMatrixDisplay(confusion_matrix=cm_cbu,\n",
        "                              display_labels=lr_cbu.classes_)\n",
        "disp.plot(cmap=\"Blues\", values_format=\"d\")\n",
        "plt.title(\"Confusion Matrix - Logistic Regression (CBU Balanced)\")\n",
        "plt.show()\n"
      ]
    },
    {
      "cell_type": "markdown",
      "source": [
        "Let us now visually see how the 2 models compare against each other using bar charts.\n",
        "\n",
        "| Model            | Precision | Recall | F1-score |\n",
        "| ---------------- | --------- | ------ | -------- |\n",
        "| **Baseline**     | 0.84      | 0.69   | 0.76     |\n",
        "| **GMM-balanced** | 0.050     | 0.888  | 0.095    |\n",
        "| **CBU**          | 0.040     | 0.910  | 0.070    |\n"
      ],
      "metadata": {
        "id": "jVS_sXF2kWW5"
      }
    },
    {
      "cell_type": "code",
      "execution_count": 40,
      "metadata": {
        "colab": {
          "base_uri": "https://localhost:8080/",
          "height": 564
        },
        "id": "dulk9NNiFBUB",
        "outputId": "47aa030d-336e-4eb6-9a0c-93ed31c0db53"
      },
      "outputs": [
        {
          "output_type": "display_data",
          "data": {
            "text/plain": [
              "<Figure size 800x600 with 1 Axes>"
            ],
            "image/png": "[encoded data removed]"
          },
          "metadata": {}
        }
      ],
      "source": [
        "import numpy as np\n",
        "import matplotlib.pyplot as plt\n",
        "\n",
        "# Models\n",
        "models = [\"Baseline\", \"GMM-balanced\", \"CBU\"]\n",
        "\n",
        "# Metrics for fraud class (Class 1)\n",
        "precision = [0.84, 0.050, 0.040]\n",
        "recall    = [0.69, 0.888, 0.910]\n",
        "f1_score  = [0.76, 0.095, 0.070]\n",
        "\n",
        "# Bar positions\n",
        "x = np.arange(len(models))\n",
        "width = 0.25\n",
        "\n",
        "# Plot\n",
        "fig, ax = plt.subplots(figsize=(8,6))\n",
        "ax.bar(x - width, precision, width, label=\"Precision\", color=\"skyblue\")\n",
        "ax.bar(x, recall, width, label=\"Recall\", color=\"lightgreen\")\n",
        "ax.bar(x + width, f1_score, width, label=\"F1-score\", color=\"salmon\")\n",
        "\n",
        "# Labels and formatting\n",
        "ax.set_xlabel(\"Models\")\n",
        "ax.set_ylabel(\"Scores (Fraud Class)\")\n",
        "ax.set_title(\"Performance Comparison on Fraud Class\")\n",
        "ax.set_xticks(x)\n",
        "ax.set_xticklabels(models)\n",
        "ax.legend()\n",
        "plt.ylim(0,1)\n",
        "\n",
        "plt.show()\n"
      ]
    },
    {
      "cell_type": "markdown",
      "metadata": {
        "id": "tnM52NuPFp-x"
      },
      "source": [
        "## 📌 Comparative Analysis & Recommendation\n",
        "\n",
        "The results highlight a clear trade-off between the **Baseline model** and the **GMM-balanced models**:\n",
        "\n",
        "- **Baseline (Imbalanced):**  \n",
        "  Achieves strong **precision (0.84)** and a decent **F1-score (0.76)**, but suffers from lower **recall (0.69)**. This means it correctly identifies fraud when predicted, but misses a significant portion of actual fraudulent transactions.  \n",
        "\n",
        "- **GMM-balanced (with or without CBU):**  \n",
        "  Delivers extremely high **recall (0.878)**, ensuring that most fraudulent transactions are detected. However, this comes at the expense of very poor **precision (0.041)** and consequently a much lower **F1-score (0.078)**. This model flags many legitimate transactions as fraud, creating a large number of false alarms.  \n",
        "\n",
        "### ⚖️ Recommendation  \n",
        "The choice depends on the **business objective**:\n",
        "- If minimizing **false positives** (customer inconvenience, operational costs) is more important, the **Baseline model** is preferable.  \n",
        "- If maximizing **fraud detection** (catching nearly all fraudulent cases) is the priority, the **GMM-based approach** is better despite its low precision.  \n",
        "\n",
        "In most real-world fraud detection systems, **recall is prioritized over precision**, since missing a fraud can be far more costly than a false alarm. Hence, although the Baseline shows a higher F1-score, the **GMM-based models provide a stronger safety net against fraud** and may be recommended if the institution can tolerate the operational costs of false positives."
      ]
    },
    {
      "cell_type": "markdown",
      "metadata": {
        "id": "q3eVSklpFvBH"
      },
      "source": [
        "## 🔍 Impact of GMM-based Oversampling\n",
        "\n",
        "The introduction of **GMM-based oversampling** significantly changed the classifier’s behavior compared to the baseline model:\n",
        "\n",
        "- **Improved Recall (0.878 vs 0.69):**  \n",
        "  The model became much more sensitive to fraudulent transactions, correctly identifying a much larger fraction of the minority class. This shows that GMM was successful in generating synthetic samples that helped the model \"learn\" the minority distribution better.\n",
        "\n",
        "- **Reduced Precision (0.041 vs 0.84):**  \n",
        "  While recall improved, precision dropped sharply. The model flagged a large number of legitimate transactions as fraud, leading to a high false-positive rate. This is a common side-effect of aggressively balancing the dataset.\n",
        "\n",
        "- **F1-Score Decline (0.078 vs 0.76):**  \n",
        "  Since F1 balances precision and recall, the dramatic fall in precision overshadowed the gains in recall, resulting in an overall lower F1-score.\n",
        "\n",
        "### ✅ Conclusion  \n",
        "Yes, GMM-based oversampling **did improve the model’s ability to detect the minority class (fraud cases)** by boosting recall. However, this improvement came with a major trade-off: the classifier became less reliable in distinguishing fraud from non-fraud, leading to many false alarms. The usefulness of this approach ultimately depends on whether the business prioritizes **catching all fraud** (recall) or **minimizing false alerts** (precision).\n"
      ]
    },
    {
      "cell_type": "markdown",
      "source": [
        "**1. Nature of Synthetic Data**\n",
        "\n",
        "GMM-balanced:\n",
        "You fit a Gaussian Mixture Model to the minority and then generate ~227k synthetic points.\n",
        "➝ These synthetic points lie in regions similar to the original minority cluster. They may still overlap a lot with the majority, but they preserve some of the \"real\" distribution.\n",
        "\n",
        "CBU (Cluster-Based Undersampling):\n",
        "You reduce the majority drastically to almost the same as the minority (~393 vs 394).\n",
        "➝ Now the dataset is much smaller, so Logistic Regression sees far fewer majority examples. It focuses more heavily on separating the minority class, which boosts recall for minority but hurts precision (many false positives).\n",
        "\n",
        "**2. Impact on Logistic Regression**\n",
        "\n",
        "Logistic Regression is a linear model.\n",
        "\n",
        "With GMM oversampling, the dataset is still dominated by many “realistic” majority-like points. The model learns a conservative boundary, giving high precision for class 0 but struggling to identify 1’s (only 0.05 precision for class 1).\n",
        "\n",
        "With CBU, the class balance is perfect and the model \"thinks\" both classes are equally common. This makes it aggressively predict class 1 → high recall (0.91), but since most 1 predictions are wrong, precision drops (0.04)."
      ],
      "metadata": {
        "id": "a4HXpEUNn6yX"
      }
    },
    {
      "cell_type": "markdown",
      "metadata": {
        "id": "my28VP_OF8cB"
      },
      "source": [
        "## ✅ Final Recommendation\n",
        "\n",
        "Based on the experiments and analysis, the following insights emerge:\n",
        "\n",
        "- **Effectiveness of GMM-based Oversampling:**  \n",
        "  The GMM approach successfully improved the model’s **recall for fraud detection (0.878 vs 0.69 baseline)**. This indicates that GMM-generated synthetic samples helped the classifier recognize fraudulent patterns that were previously underrepresented.  \n",
        "  However, this gain came at the cost of a **sharp drop in precision (0.041 vs 0.84 baseline)**, meaning the model raised many false alarms. As a result, the **F1-score decreased** despite the recall boost.\n",
        "\n",
        "- **Theoretical Justification:**  \n",
        "  Unlike naive methods (e.g., random oversampling) or heuristic approaches (e.g., SMOTE), GMM uses a **probabilistic model** to approximate the underlying distribution of the minority class. This makes it better suited when the minority data has **multiple sub-groups or complex distributions**, as the Gaussian components can capture such structure more flexibly.  \n",
        "  However, in highly imbalanced datasets like credit card fraud detection, the number of genuine fraud cases is extremely small. This can make it challenging for GMM to learn a reliable distribution, and synthetic points may not always align perfectly with real-world fraud cases.\n",
        "\n",
        "- **Recommendation:**  \n",
        "  GMM-based oversampling **is effective if the goal is to maximize recall** — i.e., ensuring that most fraud cases are detected, even at the cost of generating more false positives.  \n",
        "  But if the application demands a better balance between **precision and recall**, relying solely on GMM may not be ideal. A **hybrid approach** (e.g., GMM combined with ensemble classifiers or anomaly detection techniques) could yield more practical performance.\n",
        "\n",
        "👉 **Final Verdict:** GMM oversampling should be adopted **when recall is the top business priority** (catching as many fraud cases as possible). Otherwise, its precision penalty makes it less suited as a standalone solution.\n"
      ]
    },
    {
      "cell_type": "markdown",
      "source": [
        "However, if there is an economic penalty associated with a false positive - i.e. the relations with a company are going to be damaged, then it will be risky to do so. That is if a certain client is not committing fraud, but we are still checking them time and again, then that means that they might move away leading to a loss in business which can turn out to a loss in revenue. Hence we must keep all these things in mind and then make a decision."
      ],
      "metadata": {
        "id": "LOnnvFMHpNNl"
      }
    },
    {
      "cell_type": "code",
      "execution_count": 38,
      "metadata": {
        "id": "UFFdkTQLF9lT"
      },
      "outputs": [],
      "source": []
    }
  ],
  "metadata": {
    "colab": {
      "provenance": []
    },
    "kernelspec": {
      "display_name": "Python 3",
      "name": "python3"
    },
    "language_info": {
      "name": "python"
    }
  },
  "nbformat": 4,
  "nbformat_minor": 0
}